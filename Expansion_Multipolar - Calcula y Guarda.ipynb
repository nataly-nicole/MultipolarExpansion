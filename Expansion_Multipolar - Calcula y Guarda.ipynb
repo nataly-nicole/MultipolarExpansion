{
 "cells": [
  {
   "cell_type": "markdown",
   "metadata": {},
   "source": [
    "# Expansión Multipolar"
   ]
  },
  {
   "cell_type": "markdown",
   "metadata": {},
   "source": [
    "En el límite $|\\vec{r}|\\gg |\\vec{r}^{\\,\\prime}|$, un campo electrostático general se puede escribir como:\n",
    "$$\\phi(\\vec{r}) = \\frac{1}{4\\pi \\varepsilon_0} \\sum_{n=0}^\\infty \\frac{(-1)^n}{n!} \\,Q_{i_{1} \\cdots i_{n}}\\,\\partial_{i_{1}} \\cdots \\partial_{i_{n}}\\frac{1}{r},\n",
    "$$\n",
    "donde se ha definido el momento multipolar de orden $n$ como el tensor de rango $n$:\n",
    "$$\n",
    "Q_{i_1 \\cdots i_n} := \\int_V \\rho(\\vec{r})\\,x_{i_1} \\dots x_{i_n}\\,dV.\n",
    "$$\n",
    "\n",
    "Así, el potencial electrostático se ha descompuesto en una suma de términos de distinto orden en la expansión multipolar:\n",
    "$$\n",
    "\\phi(\\vec{r}) = \\sum_{n=0}^\\infty \\phi^{(n)}(\\vec{r}),\n",
    "$$\n",
    "\n",
    "donde $\\phi^{(n)}(\\vec{r})$ es la contribución multipolar de orden $n$, definida por\n",
    "$$\n",
    "\\phi^{(n)}(\\vec{r}) := \\frac{1}{4\\pi\\varepsilon_0}\\,\\frac{(-1)^n}{n!}\\,Q_{i_{1} \\cdots i_{n}}\\,\\partial_{i_{1}} \\cdots \\partial_{i_{n}}\\frac{1}{r}.\n",
    "$$\n",
    "\n",
    "Como $\\vec{E}(\\vec{r}) = -\\vec{\\nabla} \\phi(\\vec{r})$, entonces la expansión del campo eléctrico es:\n",
    "$$\n",
    "E_{i}(\\vec{r}) = \\sum_{n=0}^\\infty E_{i}^{(n)}(\\vec{r}),\n",
    "$$\n",
    "\n",
    "donde  $E_{i}^{n}(\\vec{r}) = -\\partial_{i} \\phi^{n}(\\vec{r})$ es el $n$-ésimo término de la expansión."
   ]
  },
  {
   "cell_type": "markdown",
   "metadata": {},
   "source": [
    "## Problema:\n",
    "\n",
    "Considere un paralelepípedo de lados $a$, $b$ y $c$ centrado con relación al origen del sistema de coordenadas. Si el paralelepípedo está cargado con una densidad volumétrica de carga dada por:\n",
    "$$\\rho(x,y,z) = \\frac{Q}{abc},$$\n",
    "donde $x \\in [-a/2,a/2]$, $y \\in [-b/2,b/2]$ y $z \\in[-c/2,c/2]$. Determine el campo eléctrico mediante la expansión multipolar truncando la serie hasta un cierto valor de $n_{\\text{max}}$."
   ]
  },
  {
   "cell_type": "code",
   "execution_count": 1,
   "metadata": {},
   "outputs": [],
   "source": [
    "# Escrito por Nataly Ibarra en noviembre de 2020\n",
    "# Ante cualquier duda o comentario contactar\n",
    "# a natalynicole.ibarravera@gmail.com\n",
    "from multipolar_expansion import *"
   ]
  },
  {
   "cell_type": "markdown",
   "metadata": {},
   "source": [
    "# Se definen las coordenadas"
   ]
  },
  {
   "cell_type": "code",
   "execution_count": 2,
   "metadata": {},
   "outputs": [],
   "source": [
    "x, y, z, rho, a, b, c, Q = sp.symbols('x, y, z, rho, a, b, c, Q', real=True)"
   ]
  },
  {
   "cell_type": "markdown",
   "metadata": {},
   "source": [
    "# Densidad de carga"
   ]
  },
  {
   "cell_type": "code",
   "execution_count": 3,
   "metadata": {},
   "outputs": [
    {
     "data": {
      "image/png": "[encoded data removed]",
      "text/latex": [
       "$\\displaystyle \\frac{Q}{a b c}$"
      ],
      "text/plain": [
       "  Q  \n",
       "─────\n",
       "a⋅b⋅c"
      ]
     },
     "execution_count": 3,
     "metadata": {},
     "output_type": "execute_result"
    }
   ],
   "source": [
    "#Se configura como uniforme aunque es modificable a conveniencia\n",
    "rho = Q/(a*b*c)\n",
    "rho"
   ]
  },
  {
   "cell_type": "markdown",
   "metadata": {},
   "source": [
    "# Tensor $x_{i}$"
   ]
  },
  {
   "cell_type": "code",
   "execution_count": 4,
   "metadata": {},
   "outputs": [],
   "source": [
    "coords = (x,y,z)\n",
    "xi = XI(coords)"
   ]
  },
  {
   "cell_type": "markdown",
   "metadata": {},
   "source": [
    "# Momento Multipolar"
   ]
  },
  {
   "cell_type": "code",
   "execution_count": 5,
   "metadata": {},
   "outputs": [],
   "source": [
    "#Límites de Paralelepípedo\n",
    "x1 = -a*sp.Rational(1/2)\n",
    "x2 = a*sp.Rational(1/2)\n",
    "y1 = -b*sp.Rational(1/2)\n",
    "y2 = b*sp.Rational(1/2)\n",
    "z1 = -c*sp.Rational(1/2)\n",
    "z2 = c*sp.Rational(1/2)"
   ]
  },
  {
   "cell_type": "code",
   "execution_count": 6,
   "metadata": {},
   "outputs": [],
   "source": [
    "#Dominio de integración\n",
    "dx = (x,x1,x2)\n",
    "dy = (y,y1,y2)\n",
    "dz = (z,z1,z2)"
   ]
  },
  {
   "cell_type": "markdown",
   "metadata": {
    "collapsed": true
   },
   "source": [
    "# Se cálcula y guarda el n-ésimo campo (Potencial y Campo Eléctrico)"
   ]
  },
  {
   "cell_type": "code",
   "execution_count": 7,
   "metadata": {},
   "outputs": [],
   "source": [
    "n = 0\n",
    "save_campos_n(n,rho, xi, dx, dy, dz)"
   ]
  },
  {
   "cell_type": "markdown",
   "metadata": {},
   "source": [
    "# Se cálcula y guarda el campo de manera iterativa"
   ]
  },
  {
   "cell_type": "code",
   "execution_count": 8,
   "metadata": {},
   "outputs": [],
   "source": [
    "for n in range(11):\n",
    "    save_campos_n(n,rho, xi, dx, dy, dz) # Se guarda el n-ésimo término campo\n",
    "#    save_campos_nmax(n) # Se guarda el campo hasta un cierto nmax"
   ]
  }
 ],
 "metadata": {
  "anaconda-cloud": {},
  "kernelspec": {
   "display_name": "Python 3",
   "language": "python",
   "name": "python3"
  },
  "language_info": {
   "codemirror_mode": {
    "name": "ipython",
    "version": 3
   },
   "file_extension": ".py",
   "mimetype": "text/x-python",
   "name": "python",
   "nbconvert_exporter": "python",
   "pygments_lexer": "ipython3",
   "version": "3.8.5"
  }
 },
 "nbformat": 4,
 "nbformat_minor": 1
}
