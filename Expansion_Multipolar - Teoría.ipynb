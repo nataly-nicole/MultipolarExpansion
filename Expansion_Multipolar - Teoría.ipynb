{
 "cells": [
  {
   "cell_type": "markdown",
   "metadata": {},
   "source": [
    "# Expansión Multipolar"
   ]
  },
  {
   "cell_type": "markdown",
   "metadata": {},
   "source": [
    "En el límite $|\\vec{r}|\\gg |\\vec{r}^{\\,\\prime}|$, un campo electrostático general se puede escribir como:\n",
    "$$\\phi(\\vec{r}) = \\frac{1}{4\\pi \\varepsilon_0} \\sum_{n=0}^\\infty \\frac{(-1)^n}{n!} \\,Q_{i_{1} \\cdots i_{n}}\\,\\partial_{i_{1}} \\cdots \\partial_{i_{n}}\\frac{1}{r},\n",
    "$$\n",
    "donde se ha definido el momento multipolar de orden $n$ como el tensor de rango $n$:\n",
    "$$\n",
    "Q_{i_1 \\cdots i_n} := \\int_V \\rho(\\vec{r})\\,x_{i_1} \\dots x_{i_n}\\,dV.\n",
    "$$\n",
    "\n",
    "Así, el potencial electrostático se ha descompuesto en una suma de términos de distinto orden en la expansión multipolar:\n",
    "$$\n",
    "\\phi(\\vec{r}) = \\sum_{n=0}^\\infty \\phi^{(n)}(\\vec{r}),\n",
    "$$\n",
    "\n",
    "donde $\\phi^{(n)}(\\vec{r})$ es la contribución multipolar de orden $n$, definida por\n",
    "$$\n",
    "\\phi^{(n)}(\\vec{r}) := \\frac{1}{4\\pi\\varepsilon_0}\\,\\frac{(-1)^n}{n!}\\,Q_{i_{1} \\cdots i_{n}}\\,\\partial_{i_{1}} \\cdots \\partial_{i_{n}}\\frac{1}{r}.\n",
    "$$\n",
    "\n",
    "Como $\\vec{E}(\\vec{r}) = -\\vec{\\nabla} \\phi(\\vec{r})$, entonces la expansión del campo eléctrico es:\n",
    "$$\n",
    "E_{i}(\\vec{r}) = \\sum_{n=0}^\\infty E_{i}^{(n)}(\\vec{r}),\n",
    "$$\n",
    "\n",
    "donde  $E_{i}^{n}(\\vec{r}) = -\\partial_{i} \\phi^{n}(\\vec{r})$ es el $n$-ésimo término de la expansión."
   ]
  }
 ],
 "metadata": {
  "anaconda-cloud": {},
  "kernelspec": {
   "display_name": "Python [conda env:envpy3.7]",
   "language": "python",
   "name": "conda-env-envpy3.7-py"
  },
  "language_info": {
   "codemirror_mode": {
    "name": "ipython",
    "version": 3
   },
   "file_extension": ".py",
   "mimetype": "text/x-python",
   "name": "python",
   "nbconvert_exporter": "python",
   "pygments_lexer": "ipython3",
   "version": "3.7.9"
  }
 },
 "nbformat": 4,
 "nbformat_minor": 1
}
